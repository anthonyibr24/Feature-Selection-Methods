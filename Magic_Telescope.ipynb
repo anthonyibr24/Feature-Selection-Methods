{
  "nbformat": 4,
  "nbformat_minor": 0,
  "metadata": {
    "colab": {
      "provenance": [],
      "authorship_tag": "ABX9TyPX4Q1V6Q62YO7FmarFfTD7",
      "include_colab_link": true
    },
    "kernelspec": {
      "name": "python3",
      "display_name": "Python 3"
    },
    "language_info": {
      "name": "python"
    }
  },
  "cells": [
    {
      "cell_type": "markdown",
      "metadata": {
        "id": "view-in-github",
        "colab_type": "text"
      },
      "source": [
        "<a href=\"https://colab.research.google.com/github/anthonyibr24/Feature-Selection-Methods/blob/Magic-Telescope/Magic_Telescope.ipynb\" target=\"_parent\"><img src=\"https://colab.research.google.com/assets/colab-badge.svg\" alt=\"Open In Colab\"/></a>"
      ]
    },
    {
      "cell_type": "code",
      "source": [
        "pip install ucimlrepo"
      ],
      "metadata": {
        "colab": {
          "base_uri": "https://localhost:8080/"
        },
        "id": "_yVQTcNoOws9",
        "outputId": "c4e76941-c857-4c53-ee94-bb85d6a42538"
      },
      "execution_count": null,
      "outputs": [
        {
          "output_type": "stream",
          "name": "stdout",
          "text": [
            "Collecting ucimlrepo\n",
            "  Downloading ucimlrepo-0.0.7-py3-none-any.whl.metadata (5.5 kB)\n",
            "Requirement already satisfied: pandas>=1.0.0 in /usr/local/lib/python3.11/dist-packages (from ucimlrepo) (2.2.2)\n",
            "Requirement already satisfied: certifi>=2020.12.5 in /usr/local/lib/python3.11/dist-packages (from ucimlrepo) (2025.4.26)\n",
            "Requirement already satisfied: numpy>=1.23.2 in /usr/local/lib/python3.11/dist-packages (from pandas>=1.0.0->ucimlrepo) (2.0.2)\n",
            "Requirement already satisfied: python-dateutil>=2.8.2 in /usr/local/lib/python3.11/dist-packages (from pandas>=1.0.0->ucimlrepo) (2.9.0.post0)\n",
            "Requirement already satisfied: pytz>=2020.1 in /usr/local/lib/python3.11/dist-packages (from pandas>=1.0.0->ucimlrepo) (2025.2)\n",
            "Requirement already satisfied: tzdata>=2022.7 in /usr/local/lib/python3.11/dist-packages (from pandas>=1.0.0->ucimlrepo) (2025.2)\n",
            "Requirement already satisfied: six>=1.5 in /usr/local/lib/python3.11/dist-packages (from python-dateutil>=2.8.2->pandas>=1.0.0->ucimlrepo) (1.17.0)\n",
            "Downloading ucimlrepo-0.0.7-py3-none-any.whl (8.0 kB)\n",
            "Installing collected packages: ucimlrepo\n",
            "Successfully installed ucimlrepo-0.0.7\n"
          ]
        }
      ]
    },
    {
      "cell_type": "code",
      "source": [
        "from ucimlrepo import fetch_ucirepo\n",
        "import pandas as pd\n",
        "import numpy as np\n",
        "\n",
        "# fetch dataset\n",
        "magic_gamma_telescope = fetch_ucirepo(id=159)\n",
        "\n",
        "# data (as pandas dataframes)\n",
        "X = magic_gamma_telescope.data.features\n",
        "y = magic_gamma_telescope.data.targets\n",
        "\n",
        "df=pd.concat([X,y],axis=1)\n",
        "df.head()\n",
        "print(df['class'].value_counts())\n",
        "\n"
      ],
      "metadata": {
        "colab": {
          "base_uri": "https://localhost:8080/"
        },
        "id": "6L-C7JbXNsj0",
        "outputId": "5d963578-9144-4046-8c90-783d3f77bfc7"
      },
      "execution_count": null,
      "outputs": [
        {
          "output_type": "stream",
          "name": "stdout",
          "text": [
            "class\n",
            "g    12332\n",
            "h     6688\n",
            "Name: count, dtype: int64\n"
          ]
        }
      ]
    },
    {
      "cell_type": "code",
      "source": [
        "df.shape"
      ],
      "metadata": {
        "colab": {
          "base_uri": "https://localhost:8080/"
        },
        "id": "ehUMbjYeNwQ2",
        "outputId": "ee78273b-6a36-462f-a3f1-65ba7587e8a3"
      },
      "execution_count": null,
      "outputs": [
        {
          "output_type": "execute_result",
          "data": {
            "text/plain": [
              "(19020, 11)"
            ]
          },
          "metadata": {},
          "execution_count": 3
        }
      ]
    },
    {
      "cell_type": "code",
      "source": [
        "print(df['class'].value_counts())"
      ],
      "metadata": {
        "colab": {
          "base_uri": "https://localhost:8080/"
        },
        "id": "I_2itaWPNwTo",
        "outputId": "4ccf4364-f01a-4d1f-f2b2-95a8c36dc14a"
      },
      "execution_count": null,
      "outputs": [
        {
          "output_type": "stream",
          "name": "stdout",
          "text": [
            "class\n",
            "g    12332\n",
            "h     6688\n",
            "Name: count, dtype: int64\n"
          ]
        }
      ]
    },
    {
      "cell_type": "code",
      "source": [
        "from sklearn.utils import Bunch\n",
        "\n",
        "# Create a Bunch-like object for compatibility\n",
        "data_set = Bunch(\n",
        "    data=df.drop('class', axis=1).values,\n",
        "    target=df['class'].values,\n",
        "    feature_names=df.drop('class', axis=1).columns.tolist(),\n",
        ")\n",
        "\n",
        "\n",
        "#load dataset\n",
        "data=data_set\n",
        "df=pd.DataFrame(data.data,columns=data.feature_names)\n",
        "df['target']=data.target\n",
        "df.head()\n",
        "\n",
        "#scale mean=0 std=1\n",
        "from sklearn.preprocessing import StandardScaler\n",
        "scaler=StandardScaler()\n",
        "df=df.drop('target',axis=1)\n",
        "df[data.feature_names]=scaler.fit_transform(df[data.feature_names])\n",
        "\n",
        "df['target']=data.target\n",
        "df.describe().round(3)"
      ],
      "metadata": {
        "colab": {
          "base_uri": "https://localhost:8080/",
          "height": 300
        },
        "id": "qciotgz5YMUa",
        "outputId": "7bf029f4-b931-42b8-bc13-c4b64cc83c33"
      },
      "execution_count": null,
      "outputs": [
        {
          "output_type": "execute_result",
          "data": {
            "text/plain": [
              "         fLength     fWidth      fSize      fConc     fConc1      fAsym  \\\n",
              "count  19020.000  19020.000  19020.000  19020.000  19020.000  19020.000   \n",
              "mean       0.000     -0.000     -0.000     -0.000      0.000     -0.000   \n",
              "std        1.000      1.000      1.000      1.000      1.000      1.000   \n",
              "min       -1.156     -1.209     -1.870     -2.009     -1.940     -7.661   \n",
              "25%       -0.683     -0.562     -0.736     -0.791     -0.780     -0.275   \n",
              "50%       -0.380     -0.275     -0.181     -0.143     -0.164      0.141   \n",
              "75%        0.398      0.139      0.585      0.675      0.639      0.480   \n",
              "max        6.631     12.766      5.286      2.804      4.168      9.789   \n",
              "\n",
              "         fM3Long   fM3Trans     fAlpha      fDist  \n",
              "count  19020.000  19020.000  19020.000  19020.000  \n",
              "mean       0.000     -0.000      0.000     -0.000  \n",
              "std        1.000      1.000      1.000      1.000  \n",
              "min       -6.712     -9.898     -1.059     -2.576  \n",
              "25%       -0.459     -0.533     -0.847     -0.687  \n",
              "50%        0.094      0.020     -0.382     -0.026  \n",
              "75%        0.496      0.514      0.699      0.626  \n",
              "max        4.466      8.624      2.389      4.038  "
            ],
            "text/html": [
              "\n",
              "  <div id=\"df-6c0da17c-cd5a-4398-a339-e42ca1670e8d\" class=\"colab-df-container\">\n",
              "    <div>\n",
              "<style scoped>\n",
              "    .dataframe tbody tr th:only-of-type {\n",
              "        vertical-align: middle;\n",
              "    }\n",
              "\n",
              "    .dataframe tbody tr th {\n",
              "        vertical-align: top;\n",
              "    }\n",
              "\n",
              "    .dataframe thead th {\n",
              "        text-align: right;\n",
              "    }\n",
              "</style>\n",
              "<table border=\"1\" class=\"dataframe\">\n",
              "  <thead>\n",
              "    <tr style=\"text-align: right;\">\n",
              "      <th></th>\n",
              "      <th>fLength</th>\n",
              "      <th>fWidth</th>\n",
              "      <th>fSize</th>\n",
              "      <th>fConc</th>\n",
              "      <th>fConc1</th>\n",
              "      <th>fAsym</th>\n",
              "      <th>fM3Long</th>\n",
              "      <th>fM3Trans</th>\n",
              "      <th>fAlpha</th>\n",
              "      <th>fDist</th>\n",
              "    </tr>\n",
              "  </thead>\n",
              "  <tbody>\n",
              "    <tr>\n",
              "      <th>count</th>\n",
              "      <td>19020.000</td>\n",
              "      <td>19020.000</td>\n",
              "      <td>19020.000</td>\n",
              "      <td>19020.000</td>\n",
              "      <td>19020.000</td>\n",
              "      <td>19020.000</td>\n",
              "      <td>19020.000</td>\n",
              "      <td>19020.000</td>\n",
              "      <td>19020.000</td>\n",
              "      <td>19020.000</td>\n",
              "    </tr>\n",
              "    <tr>\n",
              "      <th>mean</th>\n",
              "      <td>0.000</td>\n",
              "      <td>-0.000</td>\n",
              "      <td>-0.000</td>\n",
              "      <td>-0.000</td>\n",
              "      <td>0.000</td>\n",
              "      <td>-0.000</td>\n",
              "      <td>0.000</td>\n",
              "      <td>-0.000</td>\n",
              "      <td>0.000</td>\n",
              "      <td>-0.000</td>\n",
              "    </tr>\n",
              "    <tr>\n",
              "      <th>std</th>\n",
              "      <td>1.000</td>\n",
              "      <td>1.000</td>\n",
              "      <td>1.000</td>\n",
              "      <td>1.000</td>\n",
              "      <td>1.000</td>\n",
              "      <td>1.000</td>\n",
              "      <td>1.000</td>\n",
              "      <td>1.000</td>\n",
              "      <td>1.000</td>\n",
              "      <td>1.000</td>\n",
              "    </tr>\n",
              "    <tr>\n",
              "      <th>min</th>\n",
              "      <td>-1.156</td>\n",
              "      <td>-1.209</td>\n",
              "      <td>-1.870</td>\n",
              "      <td>-2.009</td>\n",
              "      <td>-1.940</td>\n",
              "      <td>-7.661</td>\n",
              "      <td>-6.712</td>\n",
              "      <td>-9.898</td>\n",
              "      <td>-1.059</td>\n",
              "      <td>-2.576</td>\n",
              "    </tr>\n",
              "    <tr>\n",
              "      <th>25%</th>\n",
              "      <td>-0.683</td>\n",
              "      <td>-0.562</td>\n",
              "      <td>-0.736</td>\n",
              "      <td>-0.791</td>\n",
              "      <td>-0.780</td>\n",
              "      <td>-0.275</td>\n",
              "      <td>-0.459</td>\n",
              "      <td>-0.533</td>\n",
              "      <td>-0.847</td>\n",
              "      <td>-0.687</td>\n",
              "    </tr>\n",
              "    <tr>\n",
              "      <th>50%</th>\n",
              "      <td>-0.380</td>\n",
              "      <td>-0.275</td>\n",
              "      <td>-0.181</td>\n",
              "      <td>-0.143</td>\n",
              "      <td>-0.164</td>\n",
              "      <td>0.141</td>\n",
              "      <td>0.094</td>\n",
              "      <td>0.020</td>\n",
              "      <td>-0.382</td>\n",
              "      <td>-0.026</td>\n",
              "    </tr>\n",
              "    <tr>\n",
              "      <th>75%</th>\n",
              "      <td>0.398</td>\n",
              "      <td>0.139</td>\n",
              "      <td>0.585</td>\n",
              "      <td>0.675</td>\n",
              "      <td>0.639</td>\n",
              "      <td>0.480</td>\n",
              "      <td>0.496</td>\n",
              "      <td>0.514</td>\n",
              "      <td>0.699</td>\n",
              "      <td>0.626</td>\n",
              "    </tr>\n",
              "    <tr>\n",
              "      <th>max</th>\n",
              "      <td>6.631</td>\n",
              "      <td>12.766</td>\n",
              "      <td>5.286</td>\n",
              "      <td>2.804</td>\n",
              "      <td>4.168</td>\n",
              "      <td>9.789</td>\n",
              "      <td>4.466</td>\n",
              "      <td>8.624</td>\n",
              "      <td>2.389</td>\n",
              "      <td>4.038</td>\n",
              "    </tr>\n",
              "  </tbody>\n",
              "</table>\n",
              "</div>\n",
              "    <div class=\"colab-df-buttons\">\n",
              "\n",
              "  <div class=\"colab-df-container\">\n",
              "    <button class=\"colab-df-convert\" onclick=\"convertToInteractive('df-6c0da17c-cd5a-4398-a339-e42ca1670e8d')\"\n",
              "            title=\"Convert this dataframe to an interactive table.\"\n",
              "            style=\"display:none;\">\n",
              "\n",
              "  <svg xmlns=\"http://www.w3.org/2000/svg\" height=\"24px\" viewBox=\"0 -960 960 960\">\n",
              "    <path d=\"M120-120v-720h720v720H120Zm60-500h600v-160H180v160Zm220 220h160v-160H400v160Zm0 220h160v-160H400v160ZM180-400h160v-160H180v160Zm440 0h160v-160H620v160ZM180-180h160v-160H180v160Zm440 0h160v-160H620v160Z\"/>\n",
              "  </svg>\n",
              "    </button>\n",
              "\n",
              "  <style>\n",
              "    .colab-df-container {\n",
              "      display:flex;\n",
              "      gap: 12px;\n",
              "    }\n",
              "\n",
              "    .colab-df-convert {\n",
              "      background-color: #E8F0FE;\n",
              "      border: none;\n",
              "      border-radius: 50%;\n",
              "      cursor: pointer;\n",
              "      display: none;\n",
              "      fill: #1967D2;\n",
              "      height: 32px;\n",
              "      padding: 0 0 0 0;\n",
              "      width: 32px;\n",
              "    }\n",
              "\n",
              "    .colab-df-convert:hover {\n",
              "      background-color: #E2EBFA;\n",
              "      box-shadow: 0px 1px 2px rgba(60, 64, 67, 0.3), 0px 1px 3px 1px rgba(60, 64, 67, 0.15);\n",
              "      fill: #174EA6;\n",
              "    }\n",
              "\n",
              "    .colab-df-buttons div {\n",
              "      margin-bottom: 4px;\n",
              "    }\n",
              "\n",
              "    [theme=dark] .colab-df-convert {\n",
              "      background-color: #3B4455;\n",
              "      fill: #D2E3FC;\n",
              "    }\n",
              "\n",
              "    [theme=dark] .colab-df-convert:hover {\n",
              "      background-color: #434B5C;\n",
              "      box-shadow: 0px 1px 3px 1px rgba(0, 0, 0, 0.15);\n",
              "      filter: drop-shadow(0px 1px 2px rgba(0, 0, 0, 0.3));\n",
              "      fill: #FFFFFF;\n",
              "    }\n",
              "  </style>\n",
              "\n",
              "    <script>\n",
              "      const buttonEl =\n",
              "        document.querySelector('#df-6c0da17c-cd5a-4398-a339-e42ca1670e8d button.colab-df-convert');\n",
              "      buttonEl.style.display =\n",
              "        google.colab.kernel.accessAllowed ? 'block' : 'none';\n",
              "\n",
              "      async function convertToInteractive(key) {\n",
              "        const element = document.querySelector('#df-6c0da17c-cd5a-4398-a339-e42ca1670e8d');\n",
              "        const dataTable =\n",
              "          await google.colab.kernel.invokeFunction('convertToInteractive',\n",
              "                                                    [key], {});\n",
              "        if (!dataTable) return;\n",
              "\n",
              "        const docLinkHtml = 'Like what you see? Visit the ' +\n",
              "          '<a target=\"_blank\" href=https://colab.research.google.com/notebooks/data_table.ipynb>data table notebook</a>'\n",
              "          + ' to learn more about interactive tables.';\n",
              "        element.innerHTML = '';\n",
              "        dataTable['output_type'] = 'display_data';\n",
              "        await google.colab.output.renderOutput(dataTable, element);\n",
              "        const docLink = document.createElement('div');\n",
              "        docLink.innerHTML = docLinkHtml;\n",
              "        element.appendChild(docLink);\n",
              "      }\n",
              "    </script>\n",
              "  </div>\n",
              "\n",
              "\n",
              "    <div id=\"df-d17a03d2-9795-4f14-9859-82a21a9eace9\">\n",
              "      <button class=\"colab-df-quickchart\" onclick=\"quickchart('df-d17a03d2-9795-4f14-9859-82a21a9eace9')\"\n",
              "                title=\"Suggest charts\"\n",
              "                style=\"display:none;\">\n",
              "\n",
              "<svg xmlns=\"http://www.w3.org/2000/svg\" height=\"24px\"viewBox=\"0 0 24 24\"\n",
              "     width=\"24px\">\n",
              "    <g>\n",
              "        <path d=\"M19 3H5c-1.1 0-2 .9-2 2v14c0 1.1.9 2 2 2h14c1.1 0 2-.9 2-2V5c0-1.1-.9-2-2-2zM9 17H7v-7h2v7zm4 0h-2V7h2v10zm4 0h-2v-4h2v4z\"/>\n",
              "    </g>\n",
              "</svg>\n",
              "      </button>\n",
              "\n",
              "<style>\n",
              "  .colab-df-quickchart {\n",
              "      --bg-color: #E8F0FE;\n",
              "      --fill-color: #1967D2;\n",
              "      --hover-bg-color: #E2EBFA;\n",
              "      --hover-fill-color: #174EA6;\n",
              "      --disabled-fill-color: #AAA;\n",
              "      --disabled-bg-color: #DDD;\n",
              "  }\n",
              "\n",
              "  [theme=dark] .colab-df-quickchart {\n",
              "      --bg-color: #3B4455;\n",
              "      --fill-color: #D2E3FC;\n",
              "      --hover-bg-color: #434B5C;\n",
              "      --hover-fill-color: #FFFFFF;\n",
              "      --disabled-bg-color: #3B4455;\n",
              "      --disabled-fill-color: #666;\n",
              "  }\n",
              "\n",
              "  .colab-df-quickchart {\n",
              "    background-color: var(--bg-color);\n",
              "    border: none;\n",
              "    border-radius: 50%;\n",
              "    cursor: pointer;\n",
              "    display: none;\n",
              "    fill: var(--fill-color);\n",
              "    height: 32px;\n",
              "    padding: 0;\n",
              "    width: 32px;\n",
              "  }\n",
              "\n",
              "  .colab-df-quickchart:hover {\n",
              "    background-color: var(--hover-bg-color);\n",
              "    box-shadow: 0 1px 2px rgba(60, 64, 67, 0.3), 0 1px 3px 1px rgba(60, 64, 67, 0.15);\n",
              "    fill: var(--button-hover-fill-color);\n",
              "  }\n",
              "\n",
              "  .colab-df-quickchart-complete:disabled,\n",
              "  .colab-df-quickchart-complete:disabled:hover {\n",
              "    background-color: var(--disabled-bg-color);\n",
              "    fill: var(--disabled-fill-color);\n",
              "    box-shadow: none;\n",
              "  }\n",
              "\n",
              "  .colab-df-spinner {\n",
              "    border: 2px solid var(--fill-color);\n",
              "    border-color: transparent;\n",
              "    border-bottom-color: var(--fill-color);\n",
              "    animation:\n",
              "      spin 1s steps(1) infinite;\n",
              "  }\n",
              "\n",
              "  @keyframes spin {\n",
              "    0% {\n",
              "      border-color: transparent;\n",
              "      border-bottom-color: var(--fill-color);\n",
              "      border-left-color: var(--fill-color);\n",
              "    }\n",
              "    20% {\n",
              "      border-color: transparent;\n",
              "      border-left-color: var(--fill-color);\n",
              "      border-top-color: var(--fill-color);\n",
              "    }\n",
              "    30% {\n",
              "      border-color: transparent;\n",
              "      border-left-color: var(--fill-color);\n",
              "      border-top-color: var(--fill-color);\n",
              "      border-right-color: var(--fill-color);\n",
              "    }\n",
              "    40% {\n",
              "      border-color: transparent;\n",
              "      border-right-color: var(--fill-color);\n",
              "      border-top-color: var(--fill-color);\n",
              "    }\n",
              "    60% {\n",
              "      border-color: transparent;\n",
              "      border-right-color: var(--fill-color);\n",
              "    }\n",
              "    80% {\n",
              "      border-color: transparent;\n",
              "      border-right-color: var(--fill-color);\n",
              "      border-bottom-color: var(--fill-color);\n",
              "    }\n",
              "    90% {\n",
              "      border-color: transparent;\n",
              "      border-bottom-color: var(--fill-color);\n",
              "    }\n",
              "  }\n",
              "</style>\n",
              "\n",
              "      <script>\n",
              "        async function quickchart(key) {\n",
              "          const quickchartButtonEl =\n",
              "            document.querySelector('#' + key + ' button');\n",
              "          quickchartButtonEl.disabled = true;  // To prevent multiple clicks.\n",
              "          quickchartButtonEl.classList.add('colab-df-spinner');\n",
              "          try {\n",
              "            const charts = await google.colab.kernel.invokeFunction(\n",
              "                'suggestCharts', [key], {});\n",
              "          } catch (error) {\n",
              "            console.error('Error during call to suggestCharts:', error);\n",
              "          }\n",
              "          quickchartButtonEl.classList.remove('colab-df-spinner');\n",
              "          quickchartButtonEl.classList.add('colab-df-quickchart-complete');\n",
              "        }\n",
              "        (() => {\n",
              "          let quickchartButtonEl =\n",
              "            document.querySelector('#df-d17a03d2-9795-4f14-9859-82a21a9eace9 button');\n",
              "          quickchartButtonEl.style.display =\n",
              "            google.colab.kernel.accessAllowed ? 'block' : 'none';\n",
              "        })();\n",
              "      </script>\n",
              "    </div>\n",
              "\n",
              "    </div>\n",
              "  </div>\n"
            ],
            "application/vnd.google.colaboratory.intrinsic+json": {
              "type": "dataframe",
              "summary": "{\n  \"name\": \"df\",\n  \"rows\": 8,\n  \"fields\": [\n    {\n      \"column\": \"fLength\",\n      \"properties\": {\n        \"dtype\": \"number\",\n        \"std\": 6724.29248860617,\n        \"min\": -1.156,\n        \"max\": 19020.0,\n        \"num_unique_values\": 8,\n        \"samples\": [\n          0.0,\n          -0.38,\n          19020.0\n        ],\n        \"semantic_type\": \"\",\n        \"description\": \"\"\n      }\n    },\n    {\n      \"column\": \"fWidth\",\n      \"properties\": {\n        \"dtype\": \"number\",\n        \"std\": 6723.988067452889,\n        \"min\": -1.209,\n        \"max\": 19020.0,\n        \"num_unique_values\": 8,\n        \"samples\": [\n          -0.0,\n          -0.275,\n          19020.0\n        ],\n        \"semantic_type\": \"\",\n        \"description\": \"\"\n      }\n    },\n    {\n      \"column\": \"fSize\",\n      \"properties\": {\n        \"dtype\": \"number\",\n        \"std\": 6724.379544936214,\n        \"min\": -1.87,\n        \"max\": 19020.0,\n        \"num_unique_values\": 8,\n        \"samples\": [\n          -0.0,\n          -0.181,\n          19020.0\n        ],\n        \"semantic_type\": \"\",\n        \"description\": \"\"\n      }\n    },\n    {\n      \"column\": \"fConc\",\n      \"properties\": {\n        \"dtype\": \"number\",\n        \"std\": 6724.508054500981,\n        \"min\": -2.009,\n        \"max\": 19020.0,\n        \"num_unique_values\": 8,\n        \"samples\": [\n          -0.0,\n          -0.143,\n          19020.0\n        ],\n        \"semantic_type\": \"\",\n        \"description\": \"\"\n      }\n    },\n    {\n      \"column\": \"fConc1\",\n      \"properties\": {\n        \"dtype\": \"number\",\n        \"std\": 6724.438088542097,\n        \"min\": -1.94,\n        \"max\": 19020.0,\n        \"num_unique_values\": 8,\n        \"samples\": [\n          0.0,\n          -0.164,\n          19020.0\n        ],\n        \"semantic_type\": \"\",\n        \"description\": \"\"\n      }\n    },\n    {\n      \"column\": \"fAsym\",\n      \"properties\": {\n        \"dtype\": \"number\",\n        \"std\": 6724.4116626636,\n        \"min\": -7.661,\n        \"max\": 19020.0,\n        \"num_unique_values\": 8,\n        \"samples\": [\n          -0.0,\n          0.141,\n          19020.0\n        ],\n        \"semantic_type\": \"\",\n        \"description\": \"\"\n      }\n    },\n    {\n      \"column\": \"fM3Long\",\n      \"properties\": {\n        \"dtype\": \"number\",\n        \"std\": 6724.642509151693,\n        \"min\": -6.712,\n        \"max\": 19020.0,\n        \"num_unique_values\": 8,\n        \"samples\": [\n          0.0,\n          0.094,\n          19020.0\n        ],\n        \"semantic_type\": \"\",\n        \"description\": \"\"\n      }\n    },\n    {\n      \"column\": \"fM3Trans\",\n      \"properties\": {\n        \"dtype\": \"number\",\n        \"std\": 6724.60112463556,\n        \"min\": -9.898,\n        \"max\": 19020.0,\n        \"num_unique_values\": 8,\n        \"samples\": [\n          -0.0,\n          0.02,\n          19020.0\n        ],\n        \"semantic_type\": \"\",\n        \"description\": \"\"\n      }\n    },\n    {\n      \"column\": \"fAlpha\",\n      \"properties\": {\n        \"dtype\": \"number\",\n        \"std\": 6724.494667957651,\n        \"min\": -1.059,\n        \"max\": 19020.0,\n        \"num_unique_values\": 8,\n        \"samples\": [\n          0.0,\n          -0.382,\n          19020.0\n        ],\n        \"semantic_type\": \"\",\n        \"description\": \"\"\n      }\n    },\n    {\n      \"column\": \"fDist\",\n      \"properties\": {\n        \"dtype\": \"number\",\n        \"std\": 6724.465788401367,\n        \"min\": -2.576,\n        \"max\": 19020.0,\n        \"num_unique_values\": 8,\n        \"samples\": [\n          -0.0,\n          -0.026,\n          19020.0\n        ],\n        \"semantic_type\": \"\",\n        \"description\": \"\"\n      }\n    }\n  ]\n}"
            }
          },
          "metadata": {},
          "execution_count": 5
        }
      ]
    },
    {
      "cell_type": "markdown",
      "source": [
        "# Full features"
      ],
      "metadata": {
        "id": "CVHacUKYgQM4"
      }
    },
    {
      "cell_type": "code",
      "source": [
        "#Cross validation\n",
        "from sklearn.model_selection import cross_validate\n",
        "from sklearn.linear_model import LogisticRegression\n",
        "\n",
        "lr=LogisticRegression()\n",
        "\n",
        "cv_results = cross_validate(\n",
        "    lr,\n",
        "    df.drop('target', axis=1),\n",
        "    df['target'],\n",
        "    cv=4,\n",
        "    scoring=['accuracy', 'precision_macro', 'recall_macro', 'f1_macro'],\n",
        "    return_train_score=False,\n",
        "\n",
        ")\n",
        "\n",
        "print(\"\\nAverage Metrics Across 4 Folds:\")\n",
        "print(f\"Accuracy:  {np.mean(cv_results['test_accuracy']):.4f} ± {np.std(cv_results['test_accuracy']):.4f}\")\n",
        "print(f\"Precision: {np.mean(cv_results['test_precision_macro']):.4f} ± {np.std(cv_results['test_precision_macro']):.4f}\")\n",
        "print(f\"Recall:    {np.mean(cv_results['test_recall_macro']):.4f} ± {np.std(cv_results['test_recall_macro']):.4f}\")\n",
        "print(f\"F1 Score:  {np.mean(cv_results['test_f1_macro']):.4f} ± {np.std(cv_results['test_f1_macro']):.4f}\")"
      ],
      "metadata": {
        "colab": {
          "base_uri": "https://localhost:8080/"
        },
        "id": "raITrqC3cChs",
        "outputId": "507a95ab-df0b-4f65-e459-826eeed16426"
      },
      "execution_count": null,
      "outputs": [
        {
          "output_type": "stream",
          "name": "stdout",
          "text": [
            "\n",
            "Average Metrics Across 4 Folds:\n",
            "Accuracy:  0.7908 ± 0.0022\n",
            "Precision: 0.7813 ± 0.0040\n",
            "Recall:    0.7453 ± 0.0031\n",
            "F1 Score:  0.7567 ± 0.0027\n"
          ]
        }
      ]
    },
    {
      "cell_type": "markdown",
      "source": [
        "# Using 13 features\n",
        "\n",
        "\n",
        "---\n",
        "\n",
        "\n",
        "Accuracy:  0.9777\n",
        "\n",
        "\n",
        "Precision: 0.9773\n",
        "\n",
        "\n",
        "Recall:    0.9806\n",
        "\n",
        "\n",
        "F1 Score:  0.9781\n",
        "\n",
        "\n",
        "---\n",
        "\n"
      ],
      "metadata": {
        "id": "3aIeoVkplSnA"
      }
    },
    {
      "cell_type": "markdown",
      "source": [
        "# Mutual Gain"
      ],
      "metadata": {
        "id": "MLUOwUKpq0P3"
      }
    },
    {
      "cell_type": "code",
      "source": [
        "#Mutual gain\n",
        "from sklearn.datasets import load_wine\n",
        "from sklearn.model_selection import cross_validate\n",
        "from sklearn.preprocessing import StandardScaler\n",
        "from sklearn.feature_selection import SelectKBest, mutual_info_classif\n",
        "from sklearn.linear_model import LogisticRegression\n",
        "from sklearn.pipeline import Pipeline\n",
        "\n",
        "#load dataset\n",
        "data=data_set\n",
        "df=pd.DataFrame(data.data,columns=data.feature_names)\n",
        "df['target']=data.target\n",
        "df.head()\n",
        "\n",
        "X=df.drop('target',axis=1)\n",
        "y=df['target']\n",
        "\n"
      ],
      "metadata": {
        "id": "e2XRC8bNmQ0C"
      },
      "execution_count": null,
      "outputs": []
    },
    {
      "cell_type": "code",
      "source": [
        "#Pipeline\n",
        "pipeline = Pipeline([\n",
        "    ('scaler', StandardScaler()),\n",
        "    ('selector', SelectKBest(mutual_info_classif, k=5)),\n",
        "    ('classifier', LogisticRegression())\n",
        "])\n",
        "pipeline.verbose=True\n",
        "\n",
        "#Cross-validate and calculate all metrics\n",
        "scores = cross_validate(\n",
        "    pipeline,\n",
        "    X, y,\n",
        "    cv=4,\n",
        "    scoring=['accuracy', 'precision_macro', 'recall_macro', 'f1_macro']\n",
        ")\n",
        "\n",
        "print(\"\\nAverage Scores Across 4 Folds:\")\n",
        "for metric in ['accuracy', 'precision_macro', 'recall_macro', 'f1_macro']:\n",
        "    mean_score = scores[f'test_{metric}'].mean()\n",
        "    std_score = scores[f'test_{metric}'].std()\n",
        "    print(f\"{metric.capitalize()}: {mean_score:.4f} ± {std_score:.4f}\")"
      ],
      "metadata": {
        "colab": {
          "base_uri": "https://localhost:8080/"
        },
        "id": "4_U4IYId82Tx",
        "outputId": "8839e2ed-6d48-49b8-d3fc-79fa91321309"
      },
      "execution_count": null,
      "outputs": [
        {
          "output_type": "stream",
          "name": "stdout",
          "text": [
            "[Pipeline] ............ (step 1 of 3) Processing scaler, total=   0.0s\n",
            "[Pipeline] .......... (step 2 of 3) Processing selector, total=   0.8s\n",
            "[Pipeline] ........ (step 3 of 3) Processing classifier, total=   0.0s\n",
            "[Pipeline] ............ (step 1 of 3) Processing scaler, total=   0.0s\n",
            "[Pipeline] .......... (step 2 of 3) Processing selector, total=   0.8s\n",
            "[Pipeline] ........ (step 3 of 3) Processing classifier, total=   0.0s\n",
            "[Pipeline] ............ (step 1 of 3) Processing scaler, total=   0.0s\n",
            "[Pipeline] .......... (step 2 of 3) Processing selector, total=   1.0s\n",
            "[Pipeline] ........ (step 3 of 3) Processing classifier, total=   0.1s\n",
            "[Pipeline] ............ (step 1 of 3) Processing scaler, total=   0.0s\n",
            "[Pipeline] .......... (step 2 of 3) Processing selector, total=   1.2s\n",
            "[Pipeline] ........ (step 3 of 3) Processing classifier, total=   0.1s\n",
            "\n",
            "Average Scores Across 4 Folds:\n",
            "Accuracy: 0.7907 ± 0.0012\n",
            "Precision_macro: 0.7829 ± 0.0026\n",
            "Recall_macro: 0.7433 ± 0.0033\n",
            "F1_macro: 0.7552 ± 0.0025\n"
          ]
        }
      ]
    },
    {
      "cell_type": "code",
      "source": [
        "#ANOVA\n",
        "from sklearn.datasets import load_wine\n",
        "from sklearn.model_selection import cross_validate\n",
        "from sklearn.preprocessing import StandardScaler\n",
        "from sklearn.feature_selection import SelectKBest, f_classif\n",
        "from sklearn.linear_model import LogisticRegression\n",
        "from sklearn.pipeline import Pipeline\n",
        "\n",
        "\n",
        "#load dataset\n",
        "data=data_set\n",
        "df=pd.DataFrame(data.data,columns=data.feature_names)\n",
        "df['target']=data.target\n",
        "df.head()\n",
        "\n",
        "X=df.drop('target',axis=1)\n",
        "y=df['target']\n",
        "\n",
        "#Pipeline\n",
        "pipeline = Pipeline([\n",
        "    ('scaler', StandardScaler()),\n",
        "    ('selector', SelectKBest(score_func=f_classif, k=5)),\n",
        "    ('classifier', LogisticRegression())\n",
        "])\n",
        "pipeline.verbose=True\n",
        "\n",
        "#Cross-validate and calculate all metrics\n",
        "scores = cross_validate(\n",
        "    pipeline,\n",
        "    X, y,\n",
        "    cv=4,\n",
        "    scoring=['accuracy', 'precision_macro', 'recall_macro', 'f1_macro']\n",
        ")\n",
        "\n",
        "print(\"\\nAverage Scores Across 4 Folds:\")\n",
        "for metric in ['accuracy', 'precision_macro', 'recall_macro', 'f1_macro']:\n",
        "    mean_score = scores[f'test_{metric}'].mean()\n",
        "    std_score = scores[f'test_{metric}'].std()\n",
        "    print(f\"{metric.capitalize()}: {mean_score:.4f} ± {std_score:.4f}\")"
      ],
      "metadata": {
        "colab": {
          "base_uri": "https://localhost:8080/"
        },
        "id": "R9Ga8INGttiS",
        "outputId": "227596ac-8dab-455e-d2ec-7611a9816cbd"
      },
      "execution_count": null,
      "outputs": [
        {
          "output_type": "stream",
          "name": "stdout",
          "text": [
            "[Pipeline] ............ (step 1 of 3) Processing scaler, total=   0.0s\n",
            "[Pipeline] .......... (step 2 of 3) Processing selector, total=   0.0s\n",
            "[Pipeline] ........ (step 3 of 3) Processing classifier, total=   0.1s\n",
            "[Pipeline] ............ (step 1 of 3) Processing scaler, total=   0.0s\n",
            "[Pipeline] .......... (step 2 of 3) Processing selector, total=   0.0s\n",
            "[Pipeline] ........ (step 3 of 3) Processing classifier, total=   0.1s\n",
            "[Pipeline] ............ (step 1 of 3) Processing scaler, total=   0.0s\n",
            "[Pipeline] .......... (step 2 of 3) Processing selector, total=   0.0s\n",
            "[Pipeline] ........ (step 3 of 3) Processing classifier, total=   0.1s\n",
            "[Pipeline] ............ (step 1 of 3) Processing scaler, total=   0.0s\n",
            "[Pipeline] .......... (step 2 of 3) Processing selector, total=   0.0s\n",
            "[Pipeline] ........ (step 3 of 3) Processing classifier, total=   0.1s\n",
            "\n",
            "Average Scores Across 4 Folds:\n",
            "Accuracy: 0.7905 ± 0.0011\n",
            "Precision_macro: 0.7825 ± 0.0022\n",
            "Recall_macro: 0.7432 ± 0.0031\n",
            "F1_macro: 0.7552 ± 0.0024\n"
          ]
        }
      ]
    },
    {
      "cell_type": "markdown",
      "source": [
        "# Wrapper Methods"
      ],
      "metadata": {
        "id": "0d-qd7noBKW2"
      }
    },
    {
      "cell_type": "markdown",
      "source": [
        "# Forward"
      ],
      "metadata": {
        "id": "Epp4Psg4BkUT"
      }
    },
    {
      "cell_type": "code",
      "source": [
        "#FORWARD\n",
        "from sklearn.datasets import load_wine\n",
        "from sklearn.model_selection import cross_validate\n",
        "from sklearn.preprocessing import StandardScaler\n",
        "from sklearn.linear_model import LogisticRegression\n",
        "from sklearn.pipeline import Pipeline\n",
        "from sklearn.feature_selection import SequentialFeatureSelector\n",
        "from sklearn.neighbors import KNeighborsClassifier\n",
        "\n",
        "#load dataset\n",
        "data=data_set\n",
        "df=pd.DataFrame(data.data,columns=data.feature_names)\n",
        "df['target']=data.target\n",
        "df.head()\n",
        "\n",
        "X=df.drop('target',axis=1)\n",
        "y=df['target']\n",
        "\n",
        "knn=KNeighborsClassifier(5)\n",
        "\n"
      ],
      "metadata": {
        "id": "eUI0dbhABJH9"
      },
      "execution_count": null,
      "outputs": []
    },
    {
      "cell_type": "code",
      "source": [
        "#Pipeline\n",
        "pipeline = Pipeline([\n",
        "    ('scaler', StandardScaler()),\n",
        "    ('selector', SequentialFeatureSelector(knn, n_features_to_select=5, direction='forward', scoring='accuracy')),\n",
        "    ('classifier', LogisticRegression())\n",
        "])\n",
        "pipeline.verbose=True\n",
        "\n",
        "#Cross-validate and calculate all metrics\n",
        "scores = cross_validate(\n",
        "    pipeline,\n",
        "    X, y,\n",
        "    cv=4,\n",
        "    scoring=['accuracy', 'precision_macro', 'recall_macro', 'f1_macro']\n",
        ")\n",
        "\n",
        "print(\"\\nAverage Scores Across 4 Folds:\")\n",
        "for metric in ['accuracy', 'precision_macro', 'recall_macro', 'f1_macro']:\n",
        "    mean_score = scores[f'test_{metric}'].mean()\n",
        "    std_score = scores[f'test_{metric}'].std()\n",
        "    print(f\"{metric.capitalize()}: {mean_score:.4f} ± {std_score:.4f}\")\n",
        "\n"
      ],
      "metadata": {
        "colab": {
          "base_uri": "https://localhost:8080/"
        },
        "id": "T9ph3zEYDiZ8",
        "outputId": "819729dc-e685-4159-d8d4-f00790863408"
      },
      "execution_count": null,
      "outputs": [
        {
          "output_type": "stream",
          "name": "stdout",
          "text": [
            "[Pipeline] ............ (step 1 of 3) Processing scaler, total=   0.0s\n",
            "[Pipeline] .......... (step 2 of 3) Processing selector, total=  43.8s\n",
            "[Pipeline] ........ (step 3 of 3) Processing classifier, total=   0.1s\n",
            "[Pipeline] ............ (step 1 of 3) Processing scaler, total=   0.0s\n",
            "[Pipeline] .......... (step 2 of 3) Processing selector, total=  40.9s\n",
            "[Pipeline] ........ (step 3 of 3) Processing classifier, total=   0.0s\n",
            "[Pipeline] ............ (step 1 of 3) Processing scaler, total=   0.0s\n",
            "[Pipeline] .......... (step 2 of 3) Processing selector, total=  42.3s\n",
            "[Pipeline] ........ (step 3 of 3) Processing classifier, total=   0.0s\n",
            "[Pipeline] ............ (step 1 of 3) Processing scaler, total=   0.0s\n",
            "[Pipeline] .......... (step 2 of 3) Processing selector, total=  42.3s\n",
            "[Pipeline] ........ (step 3 of 3) Processing classifier, total=   0.0s\n",
            "\n",
            "Average Scores Across 4 Folds:\n",
            "Accuracy: 0.7889 ± 0.0013\n",
            "Precision_macro: 0.7809 ± 0.0024\n",
            "Recall_macro: 0.7408 ± 0.0037\n",
            "F1_macro: 0.7528 ± 0.0029\n"
          ]
        }
      ]
    },
    {
      "cell_type": "markdown",
      "source": [
        "# BACKWARD"
      ],
      "metadata": {
        "id": "tXSlIOUmIE_s"
      }
    },
    {
      "cell_type": "code",
      "source": [
        "#BACKWARD\n",
        "from sklearn.datasets import load_wine\n",
        "from sklearn.model_selection import cross_validate\n",
        "from sklearn.preprocessing import StandardScaler\n",
        "from sklearn.linear_model import LogisticRegression\n",
        "from sklearn.pipeline import Pipeline\n",
        "from sklearn.feature_selection import SequentialFeatureSelector\n",
        "from sklearn.neighbors import KNeighborsClassifier\n",
        "\n",
        "#load dataset\n",
        "data=data_set\n",
        "df=pd.DataFrame(data.data,columns=data.feature_names)\n",
        "df['target']=data.target\n",
        "df.head()\n",
        "\n",
        "X=df.drop('target',axis=1)\n",
        "y=df['target']\n",
        "\n",
        "knn=KNeighborsClassifier(5)"
      ],
      "metadata": {
        "id": "LR5VBHU5IHsx"
      },
      "execution_count": null,
      "outputs": []
    },
    {
      "cell_type": "code",
      "source": [
        "#Pipeline\n",
        "pipeline = Pipeline([\n",
        "    ('scaler', StandardScaler()),\n",
        "    ('selector', SequentialFeatureSelector(knn, n_features_to_select=5, direction='backward', scoring='accuracy')),\n",
        "    ('classifier', LogisticRegression())\n",
        "])\n",
        "pipeline.verbose=True\n",
        "\n",
        "#Cross-validate and calculate all metrics\n",
        "scores = cross_validate(\n",
        "    pipeline,\n",
        "    X, y,\n",
        "    cv=4,\n",
        "    scoring=['accuracy', 'precision_macro', 'recall_macro', 'f1_macro']\n",
        ")\n",
        "\n",
        "print(\"\\nAverage Scores Across 4 Folds:\")\n",
        "for metric in ['accuracy', 'precision_macro', 'recall_macro', 'f1_macro']:\n",
        "    mean_score = scores[f'test_{metric}'].mean()\n",
        "    std_score = scores[f'test_{metric}'].std()\n",
        "    print(f\"{metric.capitalize()}: {mean_score:.4f} ± {std_score:.4f}\")\n"
      ],
      "metadata": {
        "colab": {
          "base_uri": "https://localhost:8080/"
        },
        "id": "tQzx11AyILRV",
        "outputId": "1ff70a56-4c6b-4375-fbc1-f85c63533e09"
      },
      "execution_count": null,
      "outputs": [
        {
          "output_type": "stream",
          "name": "stdout",
          "text": [
            "[Pipeline] ............ (step 1 of 3) Processing scaler, total=   0.0s\n",
            "[Pipeline] .......... (step 2 of 3) Processing selector, total=  59.7s\n",
            "[Pipeline] ........ (step 3 of 3) Processing classifier, total=   0.0s\n",
            "[Pipeline] ............ (step 1 of 3) Processing scaler, total=   0.0s\n",
            "[Pipeline] .......... (step 2 of 3) Processing selector, total=  57.2s\n",
            "[Pipeline] ........ (step 3 of 3) Processing classifier, total=   0.0s\n",
            "[Pipeline] ............ (step 1 of 3) Processing scaler, total=   0.0s\n",
            "[Pipeline] .......... (step 2 of 3) Processing selector, total= 1.1min\n",
            "[Pipeline] ........ (step 3 of 3) Processing classifier, total=   0.0s\n",
            "[Pipeline] ............ (step 1 of 3) Processing scaler, total=   0.0s\n",
            "[Pipeline] .......... (step 2 of 3) Processing selector, total= 1.1min\n",
            "[Pipeline] ........ (step 3 of 3) Processing classifier, total=   0.0s\n",
            "\n",
            "Average Scores Across 4 Folds:\n",
            "Accuracy: 0.7887 ± 0.0013\n",
            "Precision_macro: 0.7802 ± 0.0024\n",
            "Recall_macro: 0.7412 ± 0.0038\n",
            "F1_macro: 0.7530 ± 0.0030\n"
          ]
        }
      ]
    },
    {
      "cell_type": "markdown",
      "source": [
        "# RFE"
      ],
      "metadata": {
        "id": "Ok-58U7ULAc7"
      }
    },
    {
      "cell_type": "code",
      "source": [
        "#RFE\n",
        "from sklearn.datasets import load_wine\n",
        "from sklearn.model_selection import cross_validate\n",
        "from sklearn.preprocessing import StandardScaler\n",
        "from sklearn.linear_model import LogisticRegression\n",
        "from sklearn.pipeline import Pipeline\n",
        "from sklearn.feature_selection import RFE\n",
        "from sklearn.svm import SVC\n",
        "\n",
        "#load dataset\n",
        "data=data_set\n",
        "df=pd.DataFrame(data.data,columns=data.feature_names)\n",
        "df['target']=data.target\n",
        "df.head()\n",
        "\n",
        "X=df.drop('target',axis=1)\n",
        "y=df['target']\n",
        "\n"
      ],
      "metadata": {
        "id": "R4lBZTL2KCzr"
      },
      "execution_count": null,
      "outputs": []
    },
    {
      "cell_type": "code",
      "source": [
        "#Pipeline\n",
        "pipeline = Pipeline([\n",
        "    ('scaler', StandardScaler()),\n",
        "    ('selector', RFE(estimator=SVC(kernel='linear'), n_features_to_select=5)),\n",
        "    ('classifier', LogisticRegression())\n",
        "])\n",
        "pipeline.verbose=True\n",
        "\n",
        "#Cross-validate and calculate all metrics\n",
        "scores = cross_validate(\n",
        "    pipeline,\n",
        "    X, y,\n",
        "    cv=4,\n",
        "    scoring=['accuracy', 'precision_macro', 'recall_macro', 'f1_macro']\n",
        ")\n",
        "\n",
        "print(\"\\nAverage Scores Across 4 Folds:\")\n",
        "for metric in ['accuracy', 'precision_macro', 'recall_macro', 'f1_macro']:\n",
        "    mean_score = scores[f'test_{metric}'].mean()\n",
        "    std_score = scores[f'test_{metric}'].std()\n",
        "    print(f\"{metric.capitalize()}: {mean_score:.4f} ± {std_score:.4f}\")\n"
      ],
      "metadata": {
        "colab": {
          "base_uri": "https://localhost:8080/"
        },
        "id": "fUriSGLbMDFT",
        "outputId": "2601e73d-d6c0-4f35-abf1-a397a4e90c7f"
      },
      "execution_count": null,
      "outputs": [
        {
          "output_type": "stream",
          "name": "stdout",
          "text": [
            "[Pipeline] ............ (step 1 of 3) Processing scaler, total=   0.0s\n",
            "[Pipeline] .......... (step 2 of 3) Processing selector, total=  20.1s\n",
            "[Pipeline] ........ (step 3 of 3) Processing classifier, total=   0.0s\n",
            "[Pipeline] ............ (step 1 of 3) Processing scaler, total=   0.0s\n",
            "[Pipeline] .......... (step 2 of 3) Processing selector, total=  19.4s\n",
            "[Pipeline] ........ (step 3 of 3) Processing classifier, total=   0.0s\n",
            "[Pipeline] ............ (step 1 of 3) Processing scaler, total=   0.0s\n",
            "[Pipeline] .......... (step 2 of 3) Processing selector, total=  18.9s\n",
            "[Pipeline] ........ (step 3 of 3) Processing classifier, total=   0.0s\n",
            "[Pipeline] ............ (step 1 of 3) Processing scaler, total=   0.0s\n",
            "[Pipeline] .......... (step 2 of 3) Processing selector, total=  20.3s\n",
            "[Pipeline] ........ (step 3 of 3) Processing classifier, total=   0.0s\n",
            "\n",
            "Average Scores Across 4 Folds:\n",
            "Accuracy: 0.7892 ± 0.0002\n",
            "Precision_macro: 0.7793 ± 0.0025\n",
            "Recall_macro: 0.7437 ± 0.0026\n",
            "F1_macro: 0.7549 ± 0.0016\n"
          ]
        }
      ]
    },
    {
      "cell_type": "markdown",
      "source": [
        "# Embeded Methods"
      ],
      "metadata": {
        "id": "WIyoDunvOQFJ"
      }
    },
    {
      "cell_type": "markdown",
      "source": [
        "# Random Forest"
      ],
      "metadata": {
        "id": "vc8DScVOPovL"
      }
    },
    {
      "cell_type": "code",
      "source": [
        "#RF\n",
        "from sklearn.datasets import load_wine\n",
        "from sklearn.model_selection import cross_validate\n",
        "from sklearn.preprocessing import StandardScaler\n",
        "from sklearn.linear_model import LogisticRegression\n",
        "from sklearn.pipeline import Pipeline\n",
        "from sklearn.ensemble import RandomForestClassifier\n",
        "from sklearn.feature_selection import SelectFromModel\n",
        "\n",
        "\n",
        "#load dataset\n",
        "data=data_set\n",
        "df=pd.DataFrame(data.data,columns=data.feature_names)\n",
        "df['target']=data.target\n",
        "df.head()\n",
        "\n",
        "X=df.drop('target',axis=1)\n",
        "y=df['target']\n"
      ],
      "metadata": {
        "id": "-fu9WLj-OTUw"
      },
      "execution_count": null,
      "outputs": []
    },
    {
      "cell_type": "code",
      "source": [
        "#Pipeline\n",
        "pipeline = Pipeline([\n",
        "    ('scaler', StandardScaler()),\n",
        "    ('selector', SelectFromModel(RandomForestClassifier(random_state=42), max_features=5)),\n",
        "    ('classifier', LogisticRegression())\n",
        "])\n",
        "pipeline.verbose=True\n",
        "\n",
        "#Cross-validate and calculate all metrics\n",
        "scores = cross_validate(\n",
        "    pipeline,\n",
        "    X, y,\n",
        "    cv=4,\n",
        "    scoring=['accuracy', 'precision_macro', 'recall_macro', 'f1_macro']\n",
        ")\n",
        "\n",
        "print(\"\\nAverage Scores Across 4 Folds:\")\n",
        "for metric in ['accuracy', 'precision_macro', 'recall_macro', 'f1_macro']:\n",
        "    mean_score = scores[f'test_{metric}'].mean()\n",
        "    std_score = scores[f'test_{metric}'].std()\n",
        "    print(f\"{metric.capitalize()}: {mean_score:.4f} ± {std_score:.4f}\")"
      ],
      "metadata": {
        "colab": {
          "base_uri": "https://localhost:8080/"
        },
        "id": "rwmtSwLbPtuE",
        "outputId": "b76cc61e-ac03-4f1b-aa69-c6b0277512f4"
      },
      "execution_count": null,
      "outputs": [
        {
          "output_type": "stream",
          "name": "stdout",
          "text": [
            "[Pipeline] ............ (step 1 of 3) Processing scaler, total=   0.0s\n",
            "[Pipeline] .......... (step 2 of 3) Processing selector, total=   5.6s\n",
            "[Pipeline] ........ (step 3 of 3) Processing classifier, total=   0.0s\n",
            "[Pipeline] ............ (step 1 of 3) Processing scaler, total=   0.0s\n",
            "[Pipeline] .......... (step 2 of 3) Processing selector, total=   5.0s\n",
            "[Pipeline] ........ (step 3 of 3) Processing classifier, total=   0.0s\n",
            "[Pipeline] ............ (step 1 of 3) Processing scaler, total=   0.0s\n",
            "[Pipeline] .......... (step 2 of 3) Processing selector, total=   5.3s\n",
            "[Pipeline] ........ (step 3 of 3) Processing classifier, total=   0.0s\n",
            "[Pipeline] ............ (step 1 of 3) Processing scaler, total=   0.0s\n",
            "[Pipeline] .......... (step 2 of 3) Processing selector, total=   5.1s\n",
            "[Pipeline] ........ (step 3 of 3) Processing classifier, total=   0.0s\n",
            "\n",
            "Average Scores Across 4 Folds:\n",
            "Accuracy: 0.7856 ± 0.0018\n",
            "Precision_macro: 0.7767 ± 0.0033\n",
            "Recall_macro: 0.7374 ± 0.0040\n",
            "F1_macro: 0.7491 ± 0.0033\n"
          ]
        }
      ]
    },
    {
      "cell_type": "markdown",
      "source": [
        "# Logistic using L1 penalty"
      ],
      "metadata": {
        "id": "4G1Owl6yS5kA"
      }
    },
    {
      "cell_type": "code",
      "source": [
        "#LR L1 penalty\n",
        "from sklearn.datasets import load_wine\n",
        "from sklearn.model_selection import cross_validate\n",
        "from sklearn.preprocessing import StandardScaler\n",
        "from sklearn.linear_model import LogisticRegression\n",
        "from sklearn.pipeline import Pipeline\n",
        "from sklearn.ensemble import RandomForestClassifier\n",
        "from sklearn.feature_selection import SelectKBest\n",
        "\n",
        "\n",
        "#load dataset\n",
        "data=data_set\n",
        "df=pd.DataFrame(data.data,columns=data.feature_names)\n",
        "df['target']=data.target\n",
        "df.head()\n",
        "\n",
        "X=df.drop('target',axis=1)\n",
        "y=df['target']\n"
      ],
      "metadata": {
        "id": "LNEse-zUTMQk"
      },
      "execution_count": null,
      "outputs": []
    },
    {
      "cell_type": "code",
      "source": [
        "#Pipeline\n",
        "pipeline = Pipeline([\n",
        "    ('scaler', StandardScaler()),\n",
        "    ('selector', SelectFromModel(LogisticRegression(penalty='l1',solver='saga',C=0.1,max_iter=3000,random_state=42),max_features=5)),\n",
        "    ('classifier', LogisticRegression())\n",
        "])\n",
        "pipeline.verbose=True\n",
        "\n",
        "#Cross-validate and calculate all metrics\n",
        "scores = cross_validate(\n",
        "    pipeline,\n",
        "    X, y,\n",
        "    cv=4,\n",
        "    scoring=['accuracy', 'precision_macro', 'recall_macro', 'f1_macro']\n",
        ")\n",
        "\n",
        "print(\"\\nAverage Scores Across 4 Folds:\")\n",
        "for metric in ['accuracy', 'precision_macro', 'recall_macro', 'f1_macro']:\n",
        "    mean_score = scores[f'test_{metric}'].mean()\n",
        "    std_score = scores[f'test_{metric}'].std()\n",
        "    print(f\"{metric.capitalize()}: {mean_score:.4f} ± {std_score:.4f}\")"
      ],
      "metadata": {
        "colab": {
          "base_uri": "https://localhost:8080/"
        },
        "id": "OgHtiXkHTQIO",
        "outputId": "7eac1908-352b-4941-b121-e37cab9b6bda"
      },
      "execution_count": null,
      "outputs": [
        {
          "output_type": "stream",
          "name": "stdout",
          "text": [
            "[Pipeline] ............ (step 1 of 3) Processing scaler, total=   0.0s\n",
            "[Pipeline] .......... (step 2 of 3) Processing selector, total=   0.2s\n",
            "[Pipeline] ........ (step 3 of 3) Processing classifier, total=   0.1s\n",
            "[Pipeline] ............ (step 1 of 3) Processing scaler, total=   0.0s\n",
            "[Pipeline] .......... (step 2 of 3) Processing selector, total=   0.1s\n",
            "[Pipeline] ........ (step 3 of 3) Processing classifier, total=   0.0s\n",
            "[Pipeline] ............ (step 1 of 3) Processing scaler, total=   0.0s\n",
            "[Pipeline] .......... (step 2 of 3) Processing selector, total=   0.1s\n",
            "[Pipeline] ........ (step 3 of 3) Processing classifier, total=   0.0s\n",
            "[Pipeline] ............ (step 1 of 3) Processing scaler, total=   0.0s\n",
            "[Pipeline] .......... (step 2 of 3) Processing selector, total=   0.1s\n",
            "[Pipeline] ........ (step 3 of 3) Processing classifier, total=   0.0s\n",
            "\n",
            "Average Scores Across 4 Folds:\n",
            "Accuracy: 0.7909 ± 0.0019\n",
            "Precision_macro: 0.7819 ± 0.0034\n",
            "Recall_macro: 0.7450 ± 0.0040\n",
            "F1_macro: 0.7565 ± 0.0031\n"
          ]
        }
      ]
    }
  ]
}